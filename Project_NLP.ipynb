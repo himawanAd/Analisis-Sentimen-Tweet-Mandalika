{
  "cells": [
    {
      "cell_type": "markdown",
      "metadata": {
        "id": "view-in-github",
        "colab_type": "text"
      },
      "source": [
        "<a href=\"https://colab.research.google.com/github/himawanAd/Analisis-Sentimen-Tweet-Mandalika/blob/update/Project_NLP.ipynb\" target=\"_parent\"><img src=\"https://colab.research.google.com/assets/colab-badge.svg\" alt=\"Open In Colab\"/></a>"
      ]
    },
    {
      "cell_type": "markdown",
      "metadata": {
        "id": "ZqRrUv_hjzcD"
      },
      "source": [
        "#**Project NLP**\n",
        "**Analisis Sentimen Komentar Masyarakat terhadap Sirkuit Mandalika pada Media Sosial Twitter**"
      ]
    },
    {
      "cell_type": "markdown",
      "metadata": {
        "id": "vEwRN1slkL0Q"
      },
      "source": [
        "## Tweet Crawling\n",
        "Crawling data Twitter menggunakan library Twint"
      ]
    },
    {
      "cell_type": "code",
      "execution_count": 1,
      "metadata": {
        "colab": {
          "base_uri": "https://localhost:8080/"
        },
        "id": "bd9ITFekkRTq",
        "outputId": "8facebf3-ee37-47ff-8626-7a4a2321f0b6"
      },
      "outputs": [
        {
          "output_type": "stream",
          "name": "stdout",
          "text": [
            "Looking in indexes: https://pypi.org/simple, https://us-python.pkg.dev/colab-wheels/public/simple/\n",
            "Collecting git+https://github.com/kevctae/twint.git\n",
            "  Cloning https://github.com/kevctae/twint.git to /tmp/pip-req-build-yxxymgrl\n",
            "  Running command git clone -q https://github.com/kevctae/twint.git /tmp/pip-req-build-yxxymgrl\n",
            "Requirement already satisfied: aiohttp in /usr/local/lib/python3.7/dist-packages (from twint==2.1.21) (3.8.3)\n",
            "Collecting aiodns\n",
            "  Downloading aiodns-3.0.0-py3-none-any.whl (5.0 kB)\n",
            "Requirement already satisfied: beautifulsoup4 in /usr/local/lib/python3.7/dist-packages (from twint==2.1.21) (4.6.3)\n",
            "Collecting cchardet\n",
            "  Downloading cchardet-2.1.7-cp37-cp37m-manylinux2010_x86_64.whl (263 kB)\n",
            "\u001b[K     |████████████████████████████████| 263 kB 18.3 MB/s \n",
            "\u001b[?25hCollecting dataclasses\n",
            "  Downloading dataclasses-0.6-py3-none-any.whl (14 kB)\n",
            "Collecting elasticsearch\n",
            "  Downloading elasticsearch-8.5.0-py3-none-any.whl (385 kB)\n",
            "\u001b[K     |████████████████████████████████| 385 kB 55.7 MB/s \n",
            "\u001b[?25hRequirement already satisfied: pysocks in /usr/local/lib/python3.7/dist-packages (from twint==2.1.21) (1.7.1)\n",
            "Requirement already satisfied: pandas in /usr/local/lib/python3.7/dist-packages (from twint==2.1.21) (1.3.5)\n",
            "Collecting aiohttp_socks\n",
            "  Downloading aiohttp_socks-0.7.1-py3-none-any.whl (9.3 kB)\n",
            "Collecting schedule\n",
            "  Downloading schedule-1.1.0-py2.py3-none-any.whl (10 kB)\n",
            "Requirement already satisfied: geopy in /usr/local/lib/python3.7/dist-packages (from twint==2.1.21) (1.17.0)\n",
            "Collecting fake-useragent\n",
            "  Downloading fake_useragent-0.1.13-py3-none-any.whl (13 kB)\n",
            "Collecting googletransx\n",
            "  Downloading googletransx-2.4.2.tar.gz (13 kB)\n",
            "Collecting pycares>=4.0.0\n",
            "  Downloading pycares-4.2.2-cp37-cp37m-manylinux_2_17_x86_64.manylinux2014_x86_64.whl (288 kB)\n",
            "\u001b[K     |████████████████████████████████| 288 kB 34.1 MB/s \n",
            "\u001b[?25hRequirement already satisfied: cffi>=1.5.0 in /usr/local/lib/python3.7/dist-packages (from pycares>=4.0.0->aiodns->twint==2.1.21) (1.15.1)\n",
            "Requirement already satisfied: pycparser in /usr/local/lib/python3.7/dist-packages (from cffi>=1.5.0->pycares>=4.0.0->aiodns->twint==2.1.21) (2.21)\n",
            "Requirement already satisfied: yarl<2.0,>=1.0 in /usr/local/lib/python3.7/dist-packages (from aiohttp->twint==2.1.21) (1.8.1)\n",
            "Requirement already satisfied: frozenlist>=1.1.1 in /usr/local/lib/python3.7/dist-packages (from aiohttp->twint==2.1.21) (1.3.1)\n",
            "Requirement already satisfied: attrs>=17.3.0 in /usr/local/lib/python3.7/dist-packages (from aiohttp->twint==2.1.21) (22.1.0)\n",
            "Requirement already satisfied: async-timeout<5.0,>=4.0.0a3 in /usr/local/lib/python3.7/dist-packages (from aiohttp->twint==2.1.21) (4.0.2)\n",
            "Requirement already satisfied: multidict<7.0,>=4.5 in /usr/local/lib/python3.7/dist-packages (from aiohttp->twint==2.1.21) (6.0.2)\n",
            "Requirement already satisfied: asynctest==0.13.0 in /usr/local/lib/python3.7/dist-packages (from aiohttp->twint==2.1.21) (0.13.0)\n",
            "Requirement already satisfied: typing-extensions>=3.7.4 in /usr/local/lib/python3.7/dist-packages (from aiohttp->twint==2.1.21) (4.1.1)\n",
            "Requirement already satisfied: charset-normalizer<3.0,>=2.0 in /usr/local/lib/python3.7/dist-packages (from aiohttp->twint==2.1.21) (2.1.1)\n",
            "Requirement already satisfied: aiosignal>=1.1.2 in /usr/local/lib/python3.7/dist-packages (from aiohttp->twint==2.1.21) (1.2.0)\n",
            "Requirement already satisfied: idna>=2.0 in /usr/local/lib/python3.7/dist-packages (from yarl<2.0,>=1.0->aiohttp->twint==2.1.21) (2.10)\n",
            "Collecting python-socks[asyncio]<3.0.0,>=2.0.0\n",
            "  Downloading python_socks-2.0.3-py3-none-any.whl (49 kB)\n",
            "\u001b[K     |████████████████████████████████| 49 kB 3.4 MB/s \n",
            "\u001b[?25hCollecting elastic-transport<9,>=8\n",
            "  Downloading elastic_transport-8.4.0-py3-none-any.whl (59 kB)\n",
            "\u001b[K     |████████████████████████████████| 59 kB 3.5 MB/s \n",
            "\u001b[?25hRequirement already satisfied: certifi in /usr/local/lib/python3.7/dist-packages (from elastic-transport<9,>=8->elasticsearch->twint==2.1.21) (2022.9.24)\n",
            "Collecting urllib3<2,>=1.26.2\n",
            "  Downloading urllib3-1.26.12-py2.py3-none-any.whl (140 kB)\n",
            "\u001b[K     |████████████████████████████████| 140 kB 44.6 MB/s \n",
            "\u001b[?25hRequirement already satisfied: geographiclib<2,>=1.49 in /usr/local/lib/python3.7/dist-packages (from geopy->twint==2.1.21) (1.52)\n",
            "Requirement already satisfied: requests in /usr/local/lib/python3.7/dist-packages (from googletransx->twint==2.1.21) (2.23.0)\n",
            "Requirement already satisfied: python-dateutil>=2.7.3 in /usr/local/lib/python3.7/dist-packages (from pandas->twint==2.1.21) (2.8.2)\n",
            "Requirement already satisfied: pytz>=2017.3 in /usr/local/lib/python3.7/dist-packages (from pandas->twint==2.1.21) (2022.5)\n",
            "Requirement already satisfied: numpy>=1.17.3 in /usr/local/lib/python3.7/dist-packages (from pandas->twint==2.1.21) (1.21.6)\n",
            "Requirement already satisfied: six>=1.5 in /usr/local/lib/python3.7/dist-packages (from python-dateutil>=2.7.3->pandas->twint==2.1.21) (1.15.0)\n",
            "Requirement already satisfied: chardet<4,>=3.0.2 in /usr/local/lib/python3.7/dist-packages (from requests->googletransx->twint==2.1.21) (3.0.4)\n",
            "Collecting requests\n",
            "  Downloading requests-2.28.1-py3-none-any.whl (62 kB)\n",
            "\u001b[K     |████████████████████████████████| 62 kB 626 kB/s \n",
            "\u001b[?25hBuilding wheels for collected packages: twint, googletransx\n",
            "  Building wheel for twint (setup.py) ... \u001b[?25l\u001b[?25hdone\n",
            "  Created wheel for twint: filename=twint-2.1.21-py3-none-any.whl size=39179 sha256=f9fa4f7e80da434a3ede5f9abc7037c47b2941f3476fe2ac969ddbe99b89d5d1\n",
            "  Stored in directory: /tmp/pip-ephem-wheel-cache-axhcwloi/wheels/37/b7/73/3f444bfba5ddc96a71f205dd9a8361f1336e2b8376ea8fefed\n",
            "  Building wheel for googletransx (setup.py) ... \u001b[?25l\u001b[?25hdone\n",
            "  Created wheel for googletransx: filename=googletransx-2.4.2-py3-none-any.whl size=15968 sha256=bd03ca2f1b8b8a7fc63aeb68f0db4e54410be61976bd1dede12fce82717b326a\n",
            "  Stored in directory: /root/.cache/pip/wheels/66/d5/b1/31104b338f7fd45aa8f7d22587765db06773b13df48a89735f\n",
            "Successfully built twint googletransx\n",
            "Installing collected packages: urllib3, python-socks, requests, pycares, elastic-transport, schedule, googletransx, fake-useragent, elasticsearch, dataclasses, cchardet, aiohttp-socks, aiodns, twint\n",
            "  Attempting uninstall: urllib3\n",
            "    Found existing installation: urllib3 1.24.3\n",
            "    Uninstalling urllib3-1.24.3:\n",
            "      Successfully uninstalled urllib3-1.24.3\n",
            "  Attempting uninstall: requests\n",
            "    Found existing installation: requests 2.23.0\n",
            "    Uninstalling requests-2.23.0:\n",
            "      Successfully uninstalled requests-2.23.0\n",
            "Successfully installed aiodns-3.0.0 aiohttp-socks-0.7.1 cchardet-2.1.7 dataclasses-0.6 elastic-transport-8.4.0 elasticsearch-8.5.0 fake-useragent-0.1.13 googletransx-2.4.2 pycares-4.2.2 python-socks-2.0.3 requests-2.28.1 schedule-1.1.0 twint-2.1.21 urllib3-1.26.12\n",
            "Looking in indexes: https://pypi.org/simple, https://us-python.pkg.dev/colab-wheels/public/simple/\n",
            "Collecting whatthelang\n",
            "  Downloading whatthelang-1.0.1.tar.gz (786 kB)\n",
            "\u001b[K     |████████████████████████████████| 786 kB 20.2 MB/s \n",
            "\u001b[?25hRequirement already satisfied: Cython in /usr/local/lib/python3.7/dist-packages (from whatthelang) (0.29.32)\n",
            "Collecting cysignals\n",
            "  Downloading cysignals-1.11.2-cp37-cp37m-manylinux_2_17_x86_64.manylinux2014_x86_64.whl (871 kB)\n",
            "\u001b[K     |████████████████████████████████| 871 kB 62.0 MB/s \n",
            "\u001b[?25hCollecting pyfasttext\n",
            "  Downloading pyfasttext-0.4.6.tar.gz (244 kB)\n",
            "\u001b[K     |████████████████████████████████| 244 kB 17.6 MB/s \n",
            "\u001b[?25hRequirement already satisfied: future in /usr/local/lib/python3.7/dist-packages (from pyfasttext->whatthelang) (0.16.0)\n",
            "Requirement already satisfied: numpy in /usr/local/lib/python3.7/dist-packages (from pyfasttext->whatthelang) (1.21.6)\n",
            "Building wheels for collected packages: whatthelang, pyfasttext\n",
            "  Building wheel for whatthelang (setup.py) ... \u001b[?25l\u001b[?25hdone\n",
            "  Created wheel for whatthelang: filename=whatthelang-1.0.1-py3-none-any.whl size=789818 sha256=ce1ff687fc1c851fb11ddb7af8787d54e146bd1f92644788732dc67cd4b6de34\n",
            "  Stored in directory: /root/.cache/pip/wheels/91/5b/fe/43b4b1eb6511aed55a9c5ecf3a178a9b06d783a58907dbc87b\n",
            "  Building wheel for pyfasttext (setup.py) ... \u001b[?25l\u001b[?25hdone\n",
            "  Created wheel for pyfasttext: filename=pyfasttext-0.4.6-cp37-cp37m-linux_x86_64.whl size=1461208 sha256=47c55d70f319acdbccedbcda497f7bd7f85b6bbb073d71320dbe9e1559caa4be\n",
            "  Stored in directory: /root/.cache/pip/wheels/e6/e7/60/c4506ea3173416f3774e221bd741d06bfc2127ec23ceff6619\n",
            "Successfully built whatthelang pyfasttext\n",
            "Installing collected packages: cysignals, pyfasttext, whatthelang\n",
            "Successfully installed cysignals-1.11.2 pyfasttext-0.4.6 whatthelang-1.0.1\n",
            "Looking in indexes: https://pypi.org/simple, https://us-python.pkg.dev/colab-wheels/public/simple/\n",
            "Collecting nest_asyncio\n",
            "  Downloading nest_asyncio-1.5.6-py3-none-any.whl (5.2 kB)\n",
            "Installing collected packages: nest-asyncio\n",
            "Successfully installed nest-asyncio-1.5.6\n"
          ]
        }
      ],
      "source": [
        "!pip install --upgrade git+https://github.com/kevctae/twint.git\n",
        "!pip install whatthelang\n",
        "!pip install nest_asyncio"
      ]
    },
    {
      "cell_type": "code",
      "execution_count": 2,
      "metadata": {
        "id": "ToXNx6YUl_H1"
      },
      "outputs": [],
      "source": [
        "# Import Library\n",
        "import twint\n",
        "import nest_asyncio\n",
        "# Additional library for get rids of some errors\n",
        "nest_asyncio.apply()"
      ]
    },
    {
      "cell_type": "code",
      "execution_count": null,
      "metadata": {
        "id": "0iA_Bbo6mNuL"
      },
      "outputs": [],
      "source": [
        "# Instantiate and configure the twint-object\n",
        "c = twint.Config()\n",
        "c.Store_object = True\n",
        "c.Pandas = True\n",
        "c.Search = \"Mandalika\"\n",
        "c.Since = '2020-03-02'\n",
        "c.Until = '2022-03-21'\n",
        "c.Lang = \"id\"\n",
        "c.Limit = 3000\n",
        "\n",
        "# Run Search\n",
        "twint.run.Search(c)"
      ]
    },
    {
      "cell_type": "code",
      "execution_count": 4,
      "metadata": {
        "id": "8HyXzR7NpKwv",
        "colab": {
          "base_uri": "https://localhost:8080/"
        },
        "outputId": "4d4516f1-b679-4044-c7fe-da43097a8814"
      },
      "outputs": [
        {
          "output_type": "stream",
          "name": "stderr",
          "text": [
            "/usr/local/lib/python3.7/dist-packages/pandas/core/frame.py:4913: SettingWithCopyWarning: \n",
            "A value is trying to be set on a copy of a slice from a DataFrame\n",
            "\n",
            "See the caveats in the documentation: https://pandas.pydata.org/pandas-docs/stable/user_guide/indexing.html#returning-a-view-versus-a-copy\n",
            "  errors=errors,\n"
          ]
        }
      ],
      "source": [
        "# Cleanup\n",
        "tweets = twint.storage.panda.Tweets_df.drop_duplicates(subset=['id'])\n",
        "# Reindex\n",
        "tweets.index = range(len(tweets))\n",
        "# Remove non-Indonesian\n",
        "from whatthelang import WhatTheLang\n",
        "wtl = WhatTheLang()\n",
        "\n",
        "# This function makes easy to handle exceptions (e.g. no text where text should be)\n",
        "# Not really needed but can be useful\n",
        "def detect_lang(text):\n",
        "  try:\n",
        "    return wtl.predict_lang(text)\n",
        "  except Exception:\n",
        "    return 'exp'\n",
        "\n",
        "# Added performance measure here\n",
        "tweets['lang'] = tweets['tweet'].map(lambda t: detect_lang(t))\n",
        "# Keep only Indonesian\n",
        "tweets = tweets[tweets.lang == 'id']\n",
        "\n",
        "# Exporting\n",
        "# tweets.to_json('dataset.json')\n",
        "tweets.to_csv('dataset.csv')\n",
        "\n",
        "# Drop unused Columns\n",
        "data = tweets\n",
        "data.drop(['conversation_id','created_at','timezone','place','language','hashtags','cashtags','user_id','user_id_str','day','hour','link','urls','photos','video','thumbnail','retweet','nlikes','nreplies','nretweets','quote_url','search','near','geo','source','user_rt_id','user_rt','retweet_id','reply_to','retweet_date','translate','trans_src','trans_dest','lang','name','id'], axis=1, inplace=True)"
      ]
    },
    {
      "cell_type": "markdown",
      "metadata": {
        "id": "g15yzivLBDwI"
      },
      "source": [
        "### Sampling"
      ]
    },
    {
      "cell_type": "code",
      "execution_count": 5,
      "metadata": {
        "id": "yHexlw9ABLFR"
      },
      "outputs": [],
      "source": [
        "number_of_sample = 700\n",
        "sample = data.sample(n=number_of_sample, random_state=2020)\n",
        "sample.to_csv('sample.csv')"
      ]
    },
    {
      "cell_type": "markdown",
      "metadata": {
        "id": "xBFWoiRpuz1s"
      },
      "source": [
        "## Preprocessing Data"
      ]
    },
    {
      "cell_type": "code",
      "execution_count": 6,
      "metadata": {
        "colab": {
          "base_uri": "https://localhost:8080/"
        },
        "id": "484J4Yk7wzXl",
        "outputId": "2c18bae2-20a0-4398-a220-48e4b0a1b5cb"
      },
      "outputs": [
        {
          "output_type": "stream",
          "name": "stdout",
          "text": [
            "Looking in indexes: https://pypi.org/simple, https://us-python.pkg.dev/colab-wheels/public/simple/\n",
            "Collecting sastrawi\n",
            "  Downloading Sastrawi-1.0.1-py2.py3-none-any.whl (209 kB)\n",
            "\u001b[K     |████████████████████████████████| 209 kB 25.6 MB/s \n",
            "\u001b[?25hInstalling collected packages: sastrawi\n",
            "Successfully installed sastrawi-1.0.1\n",
            "Looking in indexes: https://pypi.org/simple, https://us-python.pkg.dev/colab-wheels/public/simple/\n",
            "Requirement already satisfied: nltk in /usr/local/lib/python3.7/dist-packages (3.7)\n",
            "Requirement already satisfied: tqdm in /usr/local/lib/python3.7/dist-packages (from nltk) (4.64.1)\n",
            "Requirement already satisfied: joblib in /usr/local/lib/python3.7/dist-packages (from nltk) (1.2.0)\n",
            "Requirement already satisfied: click in /usr/local/lib/python3.7/dist-packages (from nltk) (7.1.2)\n",
            "Requirement already satisfied: regex>=2021.8.3 in /usr/local/lib/python3.7/dist-packages (from nltk) (2022.6.2)\n"
          ]
        },
        {
          "output_type": "stream",
          "name": "stderr",
          "text": [
            "[nltk_data] Downloading package punkt to /root/nltk_data...\n",
            "[nltk_data]   Unzipping tokenizers/punkt.zip.\n"
          ]
        },
        {
          "output_type": "execute_result",
          "data": {
            "text/plain": [
              "True"
            ]
          },
          "metadata": {},
          "execution_count": 6
        }
      ],
      "source": [
        "# Import Library\n",
        "!pip install sastrawi\n",
        "!pip install nltk\n",
        "\n",
        "from Sastrawi.Stemmer.StemmerFactory import StemmerFactory\n",
        "import nltk, re, string\n",
        "import pandas as pd\n",
        "from nltk.tokenize import word_tokenize\n",
        "nltk.download('punkt')\n",
        "# Create Sastrawi Stemmer\n"
      ]
    },
    {
      "cell_type": "markdown",
      "metadata": {
        "id": "ZTnT52Cr0TCS"
      },
      "source": [
        "### Stemmer"
      ]
    },
    {
      "cell_type": "code",
      "execution_count": 7,
      "metadata": {
        "id": "4cd11bgO0VXZ"
      },
      "outputs": [],
      "source": [
        "# Create Sastrawi Stemmer\n",
        "stemmer = StemmerFactory().create_stemmer()"
      ]
    },
    {
      "cell_type": "markdown",
      "metadata": {
        "id": "3VmeVBK107Ay"
      },
      "source": [
        "### Stopwords"
      ]
    },
    {
      "cell_type": "code",
      "execution_count": 9,
      "metadata": {
        "id": "cRKbGYYk0-QN"
      },
      "outputs": [],
      "source": [
        "# Create Stopword\n",
        "with open(\"Stopword.txt\", \"r\") as f:\n",
        "  stop_words = f.readline()\n",
        "  stop_words = stop_words.split()"
      ]
    },
    {
      "cell_type": "markdown",
      "metadata": {
        "id": "q99vFhK71beM"
      },
      "source": [
        "### Preprocessing Function"
      ]
    },
    {
      "cell_type": "code",
      "execution_count": 18,
      "metadata": {
        "colab": {
          "base_uri": "https://localhost:8080/",
          "height": 144
        },
        "id": "SeW6fjPg1aOG",
        "outputId": "b70041ea-0358-4793-bd57-9b93beb4b581"
      },
      "outputs": [
        {
          "output_type": "execute_result",
          "data": {
            "text/plain": [
              "                     date                                              tweet  \\\n",
              "2267  2022-03-20 15:42:22  ..kadrun menghina pawang tolak hujan. padahal ...   \n",
              "2996  2022-03-20 14:45:40  @kemalpalevi ga rugi saya streaming...hujannya...   \n",
              "741   2022-03-20 20:44:25  @ABSetyono @PlateJohnny @Dennysiregar7 @kemkom...   \n",
              "\n",
              "           username                                        tweet_clean  \n",
              "2267  riffirifzaldi    kadrun menghina pawang tolak hujan  padahal ...  \n",
              "2996   weeleemovick   ga rugi saya streaming   hujannya jd berhenti...  \n",
              "741      delArdian_   menkominfo johnny g  plate dijadwalkan akan l...  "
            ],
            "text/html": [
              "\n",
              "  <div id=\"df-47780e5f-68aa-44bf-bf0b-cfbd26530765\">\n",
              "    <div class=\"colab-df-container\">\n",
              "      <div>\n",
              "<style scoped>\n",
              "    .dataframe tbody tr th:only-of-type {\n",
              "        vertical-align: middle;\n",
              "    }\n",
              "\n",
              "    .dataframe tbody tr th {\n",
              "        vertical-align: top;\n",
              "    }\n",
              "\n",
              "    .dataframe thead th {\n",
              "        text-align: right;\n",
              "    }\n",
              "</style>\n",
              "<table border=\"1\" class=\"dataframe\">\n",
              "  <thead>\n",
              "    <tr style=\"text-align: right;\">\n",
              "      <th></th>\n",
              "      <th>date</th>\n",
              "      <th>tweet</th>\n",
              "      <th>username</th>\n",
              "      <th>tweet_clean</th>\n",
              "    </tr>\n",
              "  </thead>\n",
              "  <tbody>\n",
              "    <tr>\n",
              "      <th>2267</th>\n",
              "      <td>2022-03-20 15:42:22</td>\n",
              "      <td>..kadrun menghina pawang tolak hujan. padahal ...</td>\n",
              "      <td>riffirifzaldi</td>\n",
              "      <td>kadrun menghina pawang tolak hujan  padahal ...</td>\n",
              "    </tr>\n",
              "    <tr>\n",
              "      <th>2996</th>\n",
              "      <td>2022-03-20 14:45:40</td>\n",
              "      <td>@kemalpalevi ga rugi saya streaming...hujannya...</td>\n",
              "      <td>weeleemovick</td>\n",
              "      <td>ga rugi saya streaming   hujannya jd berhenti...</td>\n",
              "    </tr>\n",
              "    <tr>\n",
              "      <th>741</th>\n",
              "      <td>2022-03-20 20:44:25</td>\n",
              "      <td>@ABSetyono @PlateJohnny @Dennysiregar7 @kemkom...</td>\n",
              "      <td>delArdian_</td>\n",
              "      <td>menkominfo johnny g  plate dijadwalkan akan l...</td>\n",
              "    </tr>\n",
              "  </tbody>\n",
              "</table>\n",
              "</div>\n",
              "      <button class=\"colab-df-convert\" onclick=\"convertToInteractive('df-47780e5f-68aa-44bf-bf0b-cfbd26530765')\"\n",
              "              title=\"Convert this dataframe to an interactive table.\"\n",
              "              style=\"display:none;\">\n",
              "        \n",
              "  <svg xmlns=\"http://www.w3.org/2000/svg\" height=\"24px\"viewBox=\"0 0 24 24\"\n",
              "       width=\"24px\">\n",
              "    <path d=\"M0 0h24v24H0V0z\" fill=\"none\"/>\n",
              "    <path d=\"M18.56 5.44l.94 2.06.94-2.06 2.06-.94-2.06-.94-.94-2.06-.94 2.06-2.06.94zm-11 1L8.5 8.5l.94-2.06 2.06-.94-2.06-.94L8.5 2.5l-.94 2.06-2.06.94zm10 10l.94 2.06.94-2.06 2.06-.94-2.06-.94-.94-2.06-.94 2.06-2.06.94z\"/><path d=\"M17.41 7.96l-1.37-1.37c-.4-.4-.92-.59-1.43-.59-.52 0-1.04.2-1.43.59L10.3 9.45l-7.72 7.72c-.78.78-.78 2.05 0 2.83L4 21.41c.39.39.9.59 1.41.59.51 0 1.02-.2 1.41-.59l7.78-7.78 2.81-2.81c.8-.78.8-2.07 0-2.86zM5.41 20L4 18.59l7.72-7.72 1.47 1.35L5.41 20z\"/>\n",
              "  </svg>\n",
              "      </button>\n",
              "      \n",
              "  <style>\n",
              "    .colab-df-container {\n",
              "      display:flex;\n",
              "      flex-wrap:wrap;\n",
              "      gap: 12px;\n",
              "    }\n",
              "\n",
              "    .colab-df-convert {\n",
              "      background-color: #E8F0FE;\n",
              "      border: none;\n",
              "      border-radius: 50%;\n",
              "      cursor: pointer;\n",
              "      display: none;\n",
              "      fill: #1967D2;\n",
              "      height: 32px;\n",
              "      padding: 0 0 0 0;\n",
              "      width: 32px;\n",
              "    }\n",
              "\n",
              "    .colab-df-convert:hover {\n",
              "      background-color: #E2EBFA;\n",
              "      box-shadow: 0px 1px 2px rgba(60, 64, 67, 0.3), 0px 1px 3px 1px rgba(60, 64, 67, 0.15);\n",
              "      fill: #174EA6;\n",
              "    }\n",
              "\n",
              "    [theme=dark] .colab-df-convert {\n",
              "      background-color: #3B4455;\n",
              "      fill: #D2E3FC;\n",
              "    }\n",
              "\n",
              "    [theme=dark] .colab-df-convert:hover {\n",
              "      background-color: #434B5C;\n",
              "      box-shadow: 0px 1px 3px 1px rgba(0, 0, 0, 0.15);\n",
              "      filter: drop-shadow(0px 1px 2px rgba(0, 0, 0, 0.3));\n",
              "      fill: #FFFFFF;\n",
              "    }\n",
              "  </style>\n",
              "\n",
              "      <script>\n",
              "        const buttonEl =\n",
              "          document.querySelector('#df-47780e5f-68aa-44bf-bf0b-cfbd26530765 button.colab-df-convert');\n",
              "        buttonEl.style.display =\n",
              "          google.colab.kernel.accessAllowed ? 'block' : 'none';\n",
              "\n",
              "        async function convertToInteractive(key) {\n",
              "          const element = document.querySelector('#df-47780e5f-68aa-44bf-bf0b-cfbd26530765');\n",
              "          const dataTable =\n",
              "            await google.colab.kernel.invokeFunction('convertToInteractive',\n",
              "                                                     [key], {});\n",
              "          if (!dataTable) return;\n",
              "\n",
              "          const docLinkHtml = 'Like what you see? Visit the ' +\n",
              "            '<a target=\"_blank\" href=https://colab.research.google.com/notebooks/data_table.ipynb>data table notebook</a>'\n",
              "            + ' to learn more about interactive tables.';\n",
              "          element.innerHTML = '';\n",
              "          dataTable['output_type'] = 'display_data';\n",
              "          await google.colab.output.renderOutput(dataTable, element);\n",
              "          const docLink = document.createElement('div');\n",
              "          docLink.innerHTML = docLinkHtml;\n",
              "          element.appendChild(docLink);\n",
              "        }\n",
              "      </script>\n",
              "    </div>\n",
              "  </div>\n",
              "  "
            ]
          },
          "metadata": {},
          "execution_count": 18
        }
      ],
      "source": [
        "def preprocessor(text):\n",
        "  # Convert to lower case\n",
        "  text = text.lower()\n",
        "  # Remove additional code\n",
        "  text = text.replace(\"\\\\xe2\\\\x80\\\\xa6\", \"\")\n",
        "  # Convert www.* or https?://* to URL\n",
        "  text = re.sub(\"((www\\.[^\\s]+)|(https?://[^\\s]+))\", \"\", text)\n",
        "  # Convert @username to AT_USER\n",
        "  text = re.sub(\"@[^\\s]+\", \"\", text)\n",
        "  # Remove additional white spaces\n",
        "  text = re.sub(\"[\\s]+\", \" \", text)\n",
        "  # Replace #word with word\n",
        "  text = re.sub(r\"#([^\\s]+)\", r\"\\1\", text)\n",
        "  #text = re.sub(r\"#([^\\s]+)\", \"\", text)\n",
        "  # Remove number from text\n",
        "  text = re.sub(r\"\\d+\", \"\", text)\n",
        "  # Replace punctuation with space\n",
        "  text = text.translate(str.maketrans(string.punctuation, \" \" * len(string.punctuation)))\n",
        "  return text\n",
        "\n",
        "data[\"tweet_clean\"] = data[\"tweet\"].apply(lambda x: preprocessor(x))\n",
        "data = data.drop_duplicates()\n",
        "data.sample(n=3)"
      ]
    },
    {
      "cell_type": "markdown",
      "metadata": {
        "id": "5CFlk1sx2hRb"
      },
      "source": [
        "### Tokenizer"
      ]
    },
    {
      "cell_type": "code",
      "execution_count": 19,
      "metadata": {
        "colab": {
          "base_uri": "https://localhost:8080/",
          "height": 144
        },
        "id": "C7_5ryEw2ZPt",
        "outputId": "b278f987-8d26-4682-e276-9bfe6c71dd8a"
      },
      "outputs": [
        {
          "output_type": "execute_result",
          "data": {
            "text/plain": [
              "                     date                                              tweet  \\\n",
              "2994  2022-03-20 14:45:43  Doa orang2 baik mengalahkan doa orang2 yang ga...   \n",
              "400   2022-03-20 23:00:00  Pembangunan infrastruktur telekomunikasi dalam...   \n",
              "2936  2022-03-20 14:49:28  @xdarkozz @coffeesweetened @DwiPrasetyaSan1 @b...   \n",
              "\n",
              "             username                                        tweet_clean  \n",
              "2994   txtdrindonesia  orang baik kalah orang yang suka motogp mandal...  \n",
              "400      BaharSarmila  bangun infrastruktur telekomunikasi dalam gela...  \n",
              "2936  bryyyyyyyyyyyyz         bohong messi mandalika buat nonton marquez  "
            ],
            "text/html": [
              "\n",
              "  <div id=\"df-d07690e8-2162-4f92-96bd-e7bf4846be6c\">\n",
              "    <div class=\"colab-df-container\">\n",
              "      <div>\n",
              "<style scoped>\n",
              "    .dataframe tbody tr th:only-of-type {\n",
              "        vertical-align: middle;\n",
              "    }\n",
              "\n",
              "    .dataframe tbody tr th {\n",
              "        vertical-align: top;\n",
              "    }\n",
              "\n",
              "    .dataframe thead th {\n",
              "        text-align: right;\n",
              "    }\n",
              "</style>\n",
              "<table border=\"1\" class=\"dataframe\">\n",
              "  <thead>\n",
              "    <tr style=\"text-align: right;\">\n",
              "      <th></th>\n",
              "      <th>date</th>\n",
              "      <th>tweet</th>\n",
              "      <th>username</th>\n",
              "      <th>tweet_clean</th>\n",
              "    </tr>\n",
              "  </thead>\n",
              "  <tbody>\n",
              "    <tr>\n",
              "      <th>2994</th>\n",
              "      <td>2022-03-20 14:45:43</td>\n",
              "      <td>Doa orang2 baik mengalahkan doa orang2 yang ga...</td>\n",
              "      <td>txtdrindonesia</td>\n",
              "      <td>orang baik kalah orang yang suka motogp mandal...</td>\n",
              "    </tr>\n",
              "    <tr>\n",
              "      <th>400</th>\n",
              "      <td>2022-03-20 23:00:00</td>\n",
              "      <td>Pembangunan infrastruktur telekomunikasi dalam...</td>\n",
              "      <td>BaharSarmila</td>\n",
              "      <td>bangun infrastruktur telekomunikasi dalam gela...</td>\n",
              "    </tr>\n",
              "    <tr>\n",
              "      <th>2936</th>\n",
              "      <td>2022-03-20 14:49:28</td>\n",
              "      <td>@xdarkozz @coffeesweetened @DwiPrasetyaSan1 @b...</td>\n",
              "      <td>bryyyyyyyyyyyyz</td>\n",
              "      <td>bohong messi mandalika buat nonton marquez</td>\n",
              "    </tr>\n",
              "  </tbody>\n",
              "</table>\n",
              "</div>\n",
              "      <button class=\"colab-df-convert\" onclick=\"convertToInteractive('df-d07690e8-2162-4f92-96bd-e7bf4846be6c')\"\n",
              "              title=\"Convert this dataframe to an interactive table.\"\n",
              "              style=\"display:none;\">\n",
              "        \n",
              "  <svg xmlns=\"http://www.w3.org/2000/svg\" height=\"24px\"viewBox=\"0 0 24 24\"\n",
              "       width=\"24px\">\n",
              "    <path d=\"M0 0h24v24H0V0z\" fill=\"none\"/>\n",
              "    <path d=\"M18.56 5.44l.94 2.06.94-2.06 2.06-.94-2.06-.94-.94-2.06-.94 2.06-2.06.94zm-11 1L8.5 8.5l.94-2.06 2.06-.94-2.06-.94L8.5 2.5l-.94 2.06-2.06.94zm10 10l.94 2.06.94-2.06 2.06-.94-2.06-.94-.94-2.06-.94 2.06-2.06.94z\"/><path d=\"M17.41 7.96l-1.37-1.37c-.4-.4-.92-.59-1.43-.59-.52 0-1.04.2-1.43.59L10.3 9.45l-7.72 7.72c-.78.78-.78 2.05 0 2.83L4 21.41c.39.39.9.59 1.41.59.51 0 1.02-.2 1.41-.59l7.78-7.78 2.81-2.81c.8-.78.8-2.07 0-2.86zM5.41 20L4 18.59l7.72-7.72 1.47 1.35L5.41 20z\"/>\n",
              "  </svg>\n",
              "      </button>\n",
              "      \n",
              "  <style>\n",
              "    .colab-df-container {\n",
              "      display:flex;\n",
              "      flex-wrap:wrap;\n",
              "      gap: 12px;\n",
              "    }\n",
              "\n",
              "    .colab-df-convert {\n",
              "      background-color: #E8F0FE;\n",
              "      border: none;\n",
              "      border-radius: 50%;\n",
              "      cursor: pointer;\n",
              "      display: none;\n",
              "      fill: #1967D2;\n",
              "      height: 32px;\n",
              "      padding: 0 0 0 0;\n",
              "      width: 32px;\n",
              "    }\n",
              "\n",
              "    .colab-df-convert:hover {\n",
              "      background-color: #E2EBFA;\n",
              "      box-shadow: 0px 1px 2px rgba(60, 64, 67, 0.3), 0px 1px 3px 1px rgba(60, 64, 67, 0.15);\n",
              "      fill: #174EA6;\n",
              "    }\n",
              "\n",
              "    [theme=dark] .colab-df-convert {\n",
              "      background-color: #3B4455;\n",
              "      fill: #D2E3FC;\n",
              "    }\n",
              "\n",
              "    [theme=dark] .colab-df-convert:hover {\n",
              "      background-color: #434B5C;\n",
              "      box-shadow: 0px 1px 3px 1px rgba(0, 0, 0, 0.15);\n",
              "      filter: drop-shadow(0px 1px 2px rgba(0, 0, 0, 0.3));\n",
              "      fill: #FFFFFF;\n",
              "    }\n",
              "  </style>\n",
              "\n",
              "      <script>\n",
              "        const buttonEl =\n",
              "          document.querySelector('#df-d07690e8-2162-4f92-96bd-e7bf4846be6c button.colab-df-convert');\n",
              "        buttonEl.style.display =\n",
              "          google.colab.kernel.accessAllowed ? 'block' : 'none';\n",
              "\n",
              "        async function convertToInteractive(key) {\n",
              "          const element = document.querySelector('#df-d07690e8-2162-4f92-96bd-e7bf4846be6c');\n",
              "          const dataTable =\n",
              "            await google.colab.kernel.invokeFunction('convertToInteractive',\n",
              "                                                     [key], {});\n",
              "          if (!dataTable) return;\n",
              "\n",
              "          const docLinkHtml = 'Like what you see? Visit the ' +\n",
              "            '<a target=\"_blank\" href=https://colab.research.google.com/notebooks/data_table.ipynb>data table notebook</a>'\n",
              "            + ' to learn more about interactive tables.';\n",
              "          element.innerHTML = '';\n",
              "          dataTable['output_type'] = 'display_data';\n",
              "          await google.colab.output.renderOutput(dataTable, element);\n",
              "          const docLink = document.createElement('div');\n",
              "          docLink.innerHTML = docLinkHtml;\n",
              "          element.appendChild(docLink);\n",
              "        }\n",
              "      </script>\n",
              "    </div>\n",
              "  </div>\n",
              "  "
            ]
          },
          "metadata": {},
          "execution_count": 19
        }
      ],
      "source": [
        "def tokenizer(text):\n",
        "  words = word_tokenize(text)\n",
        "  tokens = []\n",
        "  for w in words:\n",
        "      # add tokens\n",
        "      if len(w) > 3 and w not in stop_words:\n",
        "          w = stemmer.stem(w)\n",
        "          tokens.append(w.lower())\n",
        "  return \" \".join(tokens)\n",
        "\n",
        "data['tweet_clean'] = data['tweet_clean'].apply(lambda x : tokenizer(x))\n",
        "data = data.drop_duplicates()\n",
        "data.to_csv('clean_dataset.csv')\n",
        "data.sample(n=3)"
      ]
    },
    {
      "cell_type": "markdown",
      "metadata": {
        "id": "FTsR7tdS3N8b"
      },
      "source": [
        "## Text Vectorization"
      ]
    },
    {
      "cell_type": "code",
      "execution_count": 20,
      "metadata": {
        "id": "1Hb42Rmq3DLN"
      },
      "outputs": [],
      "source": [
        "# Import Library\n",
        "from sklearn.feature_extraction.text import TfidfVectorizer\n",
        "import numpy as np\n",
        "import matplotlib.pyplot as plt\n",
        "import seaborn as sns"
      ]
    },
    {
      "cell_type": "code",
      "execution_count": 21,
      "metadata": {
        "id": "Mkf1tU_q4hwc"
      },
      "outputs": [],
      "source": [
        "# Defining Vectorizer Object\n",
        "vectorizer_tfidf = TfidfVectorizer(max_features=1000)"
      ]
    },
    {
      "cell_type": "code",
      "execution_count": 22,
      "metadata": {
        "colab": {
          "base_uri": "https://localhost:8080/"
        },
        "id": "l-WAIbfN4ogu",
        "outputId": "2c2f31da-f495-4a9d-c27a-ec6ead9d361a"
      },
      "outputs": [
        {
          "output_type": "execute_result",
          "data": {
            "text/plain": [
              "<1933x1000 sparse matrix of type '<class 'numpy.float64'>'\n",
              "\twith 23179 stored elements in Compressed Sparse Row format>"
            ]
          },
          "metadata": {},
          "execution_count": 22
        }
      ],
      "source": [
        "# fit and transform text data\n",
        "word_tfidf = vectorizer_tfidf.fit_transform(data[\"tweet_clean\"].values)\n",
        "word_tfidf"
      ]
    },
    {
      "cell_type": "code",
      "execution_count": 23,
      "metadata": {
        "colab": {
          "base_uri": "https://localhost:8080/"
        },
        "id": "rm_Due9N4xG-",
        "outputId": "0f41bb0a-f745-4890-ae6b-64759683f0e6"
      },
      "outputs": [
        {
          "output_type": "stream",
          "name": "stdout",
          "text": [
            "tweet_clean  = 1933\n",
            "max_features = 1000\n"
          ]
        }
      ],
      "source": [
        "# Get feature name / words in data\n",
        "feature_name = vectorizer_tfidf.get_feature_names_out()\n",
        "\n",
        "# Data dimensions\n",
        "dimensions = word_tfidf.get_shape()\n",
        "print(f\"tweet_clean  = {dimensions[0]}\")\n",
        "print(f\"max_features = {dimensions[1]}\")"
      ]
    },
    {
      "cell_type": "markdown",
      "metadata": {
        "id": "S3N5R5OH5d8T"
      },
      "source": [
        "### Check the word with highest TF-IDF value"
      ]
    },
    {
      "cell_type": "code",
      "execution_count": 24,
      "metadata": {
        "colab": {
          "base_uri": "https://localhost:8080/",
          "height": 677
        },
        "id": "-j8galND5XpX",
        "outputId": "9e9ca0f6-5835-4e32-caf9-f114482c2d18"
      },
      "outputs": [
        {
          "output_type": "execute_result",
          "data": {
            "text/plain": [
              "                         Kata  Banyak\n",
              "280             jadilebihbaik      71\n",
              "716  terimakasihbumnmandalika      15\n",
              "706        telkomselmandalika      15\n",
              "266             infrastruktur      12\n",
              "434                masyarakat      12\n",
              "273                  internet      11\n",
              "203                      gara       9\n",
              "57                      balap       9\n",
              "515                     orang       9\n",
              "255                     hujan       8\n",
              "283                      jago       8\n",
              "53                       baik       8\n",
              "678                    sukses       7\n",
              "191                     event       7\n",
              "309                    kadrun       7\n",
              "762                      ujan       7\n",
              "213                      gigi       6\n",
              "714                    terima       6\n",
              "576                    rakyat       6\n",
              "448               merchandise       6"
            ],
            "text/html": [
              "\n",
              "  <div id=\"df-fc852ce3-3dff-4141-83b5-cfbe750167f8\">\n",
              "    <div class=\"colab-df-container\">\n",
              "      <div>\n",
              "<style scoped>\n",
              "    .dataframe tbody tr th:only-of-type {\n",
              "        vertical-align: middle;\n",
              "    }\n",
              "\n",
              "    .dataframe tbody tr th {\n",
              "        vertical-align: top;\n",
              "    }\n",
              "\n",
              "    .dataframe thead th {\n",
              "        text-align: right;\n",
              "    }\n",
              "</style>\n",
              "<table border=\"1\" class=\"dataframe\">\n",
              "  <thead>\n",
              "    <tr style=\"text-align: right;\">\n",
              "      <th></th>\n",
              "      <th>Kata</th>\n",
              "      <th>Banyak</th>\n",
              "    </tr>\n",
              "  </thead>\n",
              "  <tbody>\n",
              "    <tr>\n",
              "      <th>280</th>\n",
              "      <td>jadilebihbaik</td>\n",
              "      <td>71</td>\n",
              "    </tr>\n",
              "    <tr>\n",
              "      <th>716</th>\n",
              "      <td>terimakasihbumnmandalika</td>\n",
              "      <td>15</td>\n",
              "    </tr>\n",
              "    <tr>\n",
              "      <th>706</th>\n",
              "      <td>telkomselmandalika</td>\n",
              "      <td>15</td>\n",
              "    </tr>\n",
              "    <tr>\n",
              "      <th>266</th>\n",
              "      <td>infrastruktur</td>\n",
              "      <td>12</td>\n",
              "    </tr>\n",
              "    <tr>\n",
              "      <th>434</th>\n",
              "      <td>masyarakat</td>\n",
              "      <td>12</td>\n",
              "    </tr>\n",
              "    <tr>\n",
              "      <th>273</th>\n",
              "      <td>internet</td>\n",
              "      <td>11</td>\n",
              "    </tr>\n",
              "    <tr>\n",
              "      <th>203</th>\n",
              "      <td>gara</td>\n",
              "      <td>9</td>\n",
              "    </tr>\n",
              "    <tr>\n",
              "      <th>57</th>\n",
              "      <td>balap</td>\n",
              "      <td>9</td>\n",
              "    </tr>\n",
              "    <tr>\n",
              "      <th>515</th>\n",
              "      <td>orang</td>\n",
              "      <td>9</td>\n",
              "    </tr>\n",
              "    <tr>\n",
              "      <th>255</th>\n",
              "      <td>hujan</td>\n",
              "      <td>8</td>\n",
              "    </tr>\n",
              "    <tr>\n",
              "      <th>283</th>\n",
              "      <td>jago</td>\n",
              "      <td>8</td>\n",
              "    </tr>\n",
              "    <tr>\n",
              "      <th>53</th>\n",
              "      <td>baik</td>\n",
              "      <td>8</td>\n",
              "    </tr>\n",
              "    <tr>\n",
              "      <th>678</th>\n",
              "      <td>sukses</td>\n",
              "      <td>7</td>\n",
              "    </tr>\n",
              "    <tr>\n",
              "      <th>191</th>\n",
              "      <td>event</td>\n",
              "      <td>7</td>\n",
              "    </tr>\n",
              "    <tr>\n",
              "      <th>309</th>\n",
              "      <td>kadrun</td>\n",
              "      <td>7</td>\n",
              "    </tr>\n",
              "    <tr>\n",
              "      <th>762</th>\n",
              "      <td>ujan</td>\n",
              "      <td>7</td>\n",
              "    </tr>\n",
              "    <tr>\n",
              "      <th>213</th>\n",
              "      <td>gigi</td>\n",
              "      <td>6</td>\n",
              "    </tr>\n",
              "    <tr>\n",
              "      <th>714</th>\n",
              "      <td>terima</td>\n",
              "      <td>6</td>\n",
              "    </tr>\n",
              "    <tr>\n",
              "      <th>576</th>\n",
              "      <td>rakyat</td>\n",
              "      <td>6</td>\n",
              "    </tr>\n",
              "    <tr>\n",
              "      <th>448</th>\n",
              "      <td>merchandise</td>\n",
              "      <td>6</td>\n",
              "    </tr>\n",
              "  </tbody>\n",
              "</table>\n",
              "</div>\n",
              "      <button class=\"colab-df-convert\" onclick=\"convertToInteractive('df-fc852ce3-3dff-4141-83b5-cfbe750167f8')\"\n",
              "              title=\"Convert this dataframe to an interactive table.\"\n",
              "              style=\"display:none;\">\n",
              "        \n",
              "  <svg xmlns=\"http://www.w3.org/2000/svg\" height=\"24px\"viewBox=\"0 0 24 24\"\n",
              "       width=\"24px\">\n",
              "    <path d=\"M0 0h24v24H0V0z\" fill=\"none\"/>\n",
              "    <path d=\"M18.56 5.44l.94 2.06.94-2.06 2.06-.94-2.06-.94-.94-2.06-.94 2.06-2.06.94zm-11 1L8.5 8.5l.94-2.06 2.06-.94-2.06-.94L8.5 2.5l-.94 2.06-2.06.94zm10 10l.94 2.06.94-2.06 2.06-.94-2.06-.94-.94-2.06-.94 2.06-2.06.94z\"/><path d=\"M17.41 7.96l-1.37-1.37c-.4-.4-.92-.59-1.43-.59-.52 0-1.04.2-1.43.59L10.3 9.45l-7.72 7.72c-.78.78-.78 2.05 0 2.83L4 21.41c.39.39.9.59 1.41.59.51 0 1.02-.2 1.41-.59l7.78-7.78 2.81-2.81c.8-.78.8-2.07 0-2.86zM5.41 20L4 18.59l7.72-7.72 1.47 1.35L5.41 20z\"/>\n",
              "  </svg>\n",
              "      </button>\n",
              "      \n",
              "  <style>\n",
              "    .colab-df-container {\n",
              "      display:flex;\n",
              "      flex-wrap:wrap;\n",
              "      gap: 12px;\n",
              "    }\n",
              "\n",
              "    .colab-df-convert {\n",
              "      background-color: #E8F0FE;\n",
              "      border: none;\n",
              "      border-radius: 50%;\n",
              "      cursor: pointer;\n",
              "      display: none;\n",
              "      fill: #1967D2;\n",
              "      height: 32px;\n",
              "      padding: 0 0 0 0;\n",
              "      width: 32px;\n",
              "    }\n",
              "\n",
              "    .colab-df-convert:hover {\n",
              "      background-color: #E2EBFA;\n",
              "      box-shadow: 0px 1px 2px rgba(60, 64, 67, 0.3), 0px 1px 3px 1px rgba(60, 64, 67, 0.15);\n",
              "      fill: #174EA6;\n",
              "    }\n",
              "\n",
              "    [theme=dark] .colab-df-convert {\n",
              "      background-color: #3B4455;\n",
              "      fill: #D2E3FC;\n",
              "    }\n",
              "\n",
              "    [theme=dark] .colab-df-convert:hover {\n",
              "      background-color: #434B5C;\n",
              "      box-shadow: 0px 1px 3px 1px rgba(0, 0, 0, 0.15);\n",
              "      filter: drop-shadow(0px 1px 2px rgba(0, 0, 0, 0.3));\n",
              "      fill: #FFFFFF;\n",
              "    }\n",
              "  </style>\n",
              "\n",
              "      <script>\n",
              "        const buttonEl =\n",
              "          document.querySelector('#df-fc852ce3-3dff-4141-83b5-cfbe750167f8 button.colab-df-convert');\n",
              "        buttonEl.style.display =\n",
              "          google.colab.kernel.accessAllowed ? 'block' : 'none';\n",
              "\n",
              "        async function convertToInteractive(key) {\n",
              "          const element = document.querySelector('#df-fc852ce3-3dff-4141-83b5-cfbe750167f8');\n",
              "          const dataTable =\n",
              "            await google.colab.kernel.invokeFunction('convertToInteractive',\n",
              "                                                     [key], {});\n",
              "          if (!dataTable) return;\n",
              "\n",
              "          const docLinkHtml = 'Like what you see? Visit the ' +\n",
              "            '<a target=\"_blank\" href=https://colab.research.google.com/notebooks/data_table.ipynb>data table notebook</a>'\n",
              "            + ' to learn more about interactive tables.';\n",
              "          element.innerHTML = '';\n",
              "          dataTable['output_type'] = 'display_data';\n",
              "          await google.colab.output.renderOutput(dataTable, element);\n",
              "          const docLink = document.createElement('div');\n",
              "          docLink.innerHTML = docLinkHtml;\n",
              "          element.appendChild(docLink);\n",
              "        }\n",
              "      </script>\n",
              "    </div>\n",
              "  </div>\n",
              "  "
            ]
          },
          "metadata": {},
          "execution_count": 24
        }
      ],
      "source": [
        "content1, content2 = [], []\n",
        "\n",
        "for n in range(dimensions[0]):\n",
        "    # Convert sparse matrix row by row\n",
        "    row = word_tfidf.getrow(n).toarray()[0].ravel()\n",
        "    # Get top values and its indexes\n",
        "    top_ten_indices = row.argsort()[-1]\n",
        "    top_ten_values = row[row.argsort()[-1]]\n",
        "    # Identify the highest TFIDF value and word #\n",
        "    highestTFIDFword = feature_name[top_ten_indices]\n",
        "    highestTFIDFvalue = top_ten_values\n",
        "    top1word = {\n",
        "        \"nomor tweet\": n + 1,\n",
        "        \"nilai TFIDF\": highestTFIDFvalue,\n",
        "        \"top word\": highestTFIDFword,\n",
        "    }\n",
        "    content1.append(top1word)\n",
        "    content2.append(highestTFIDFword)\n",
        "\n",
        "# Hitung Frekuiensi kata dengan bobot terbesar\n",
        "content2 = np.asarray(content2)\n",
        "words, n = np.unique(content2, return_counts=True)\n",
        "\n",
        "# Convert to DataFrame lalu urutkan secara descending\n",
        "# lalu pilih 20 kata dengan frekuensi terbesar\n",
        "words_data = (\n",
        "    pd.DataFrame({\"Kata\": words, \"Banyak\": n}).sort_values(by=\"Banyak\", ascending=False).head(20)\n",
        ")\n",
        "words_data"
      ]
    },
    {
      "cell_type": "markdown",
      "metadata": {
        "id": "oqEbnBOH6Hpf"
      },
      "source": [
        "### Result Visualization"
      ]
    },
    {
      "cell_type": "code",
      "execution_count": 25,
      "metadata": {
        "colab": {
          "base_uri": "https://localhost:8080/",
          "height": 761
        },
        "id": "h19U3cbe59Ea",
        "outputId": "1a23c4d5-9ca5-46bb-ae1a-e5c83e76f55d"
      },
      "outputs": [
        {
          "output_type": "display_data",
          "data": {
            "text/plain": [
              "<Figure size 720x720 with 1 Axes>"
            ],
            "image/png": "[encoded data removed]"
          },
          "metadata": {
            "needs_background": "light"
          }
        }
      ],
      "source": [
        "# Plotting Barplot\n",
        "plt.figure(figsize=(10, 10))\n",
        "sns.barplot(x=words_data[\"Kata\"], y=words_data[\"Banyak\"])\n",
        "for i, v in enumerate(words_data[\"Banyak\"].tolist()):\n",
        "    plt.text(i - len(str(v)) / 10 - 0.05, v+0.25, str(v), fontsize=10)\n",
        "plt.title(\"Words with Highest Tfidf Value\", fontsize=20)\n",
        "plt.xticks(rotation=90)\n",
        "plt.xlabel(\"Word\", fontsize=16)\n",
        "plt.ylabel(\"Frequency\", fontsize=16)\n",
        "plt.show()"
      ]
    },
    {
      "cell_type": "markdown",
      "metadata": {
        "id": "6Ja1ZsC07q6H"
      },
      "source": [
        "## Modeling"
      ]
    },
    {
      "cell_type": "markdown",
      "source": [
        "### Loading Labelled Sample Tweet"
      ],
      "metadata": {
        "id": "CI-IH62dq-Jj"
      }
    },
    {
      "cell_type": "code",
      "execution_count": 29,
      "metadata": {
        "id": "GZDc62_P9867",
        "colab": {
          "base_uri": "https://localhost:8080/",
          "height": 206
        },
        "outputId": "441e0fb4-5c6f-463c-bea6-df863b0215d8"
      },
      "outputs": [
        {
          "output_type": "execute_result",
          "data": {
            "text/plain": [
              "   Unnamed: 0                 date  \\\n",
              "0        1001  2022-03-20 18:34:00   \n",
              "1        1004  2022-03-20 18:32:57   \n",
              "2        1006  2022-03-20 18:32:56   \n",
              "3        1007  2022-03-20 18:32:53   \n",
              "4        1012  2022-03-20 18:31:46   \n",
              "\n",
              "                                               tweet      username  sentiment  \n",
              "0  @idextratime @HRC_MotoGP jauh2 ke mandalika, d...  sendalpiraun          1  \n",
              "1  Nah,  Lantas apa hubungannya sama hal klenik y...   JustYourNda          1  \n",
              "2  TMC sudah beroperasi sejak 18-20 Maret lantara...   JustYourNda          2  \n",
              "3  Terbukti dari konsentrasi hujan pada 18 dan 19...   JustYourNda          0  \n",
              "4  congratulations to the riders ??? #IndonesianG...  gataugaliat_          1  "
            ],
            "text/html": [
              "\n",
              "  <div id=\"df-79f672e7-32dd-4fb0-9f9d-dd13a579ad93\">\n",
              "    <div class=\"colab-df-container\">\n",
              "      <div>\n",
              "<style scoped>\n",
              "    .dataframe tbody tr th:only-of-type {\n",
              "        vertical-align: middle;\n",
              "    }\n",
              "\n",
              "    .dataframe tbody tr th {\n",
              "        vertical-align: top;\n",
              "    }\n",
              "\n",
              "    .dataframe thead th {\n",
              "        text-align: right;\n",
              "    }\n",
              "</style>\n",
              "<table border=\"1\" class=\"dataframe\">\n",
              "  <thead>\n",
              "    <tr style=\"text-align: right;\">\n",
              "      <th></th>\n",
              "      <th>Unnamed: 0</th>\n",
              "      <th>date</th>\n",
              "      <th>tweet</th>\n",
              "      <th>username</th>\n",
              "      <th>sentiment</th>\n",
              "    </tr>\n",
              "  </thead>\n",
              "  <tbody>\n",
              "    <tr>\n",
              "      <th>0</th>\n",
              "      <td>1001</td>\n",
              "      <td>2022-03-20 18:34:00</td>\n",
              "      <td>@idextratime @HRC_MotoGP jauh2 ke mandalika, d...</td>\n",
              "      <td>sendalpiraun</td>\n",
              "      <td>1</td>\n",
              "    </tr>\n",
              "    <tr>\n",
              "      <th>1</th>\n",
              "      <td>1004</td>\n",
              "      <td>2022-03-20 18:32:57</td>\n",
              "      <td>Nah,  Lantas apa hubungannya sama hal klenik y...</td>\n",
              "      <td>JustYourNda</td>\n",
              "      <td>1</td>\n",
              "    </tr>\n",
              "    <tr>\n",
              "      <th>2</th>\n",
              "      <td>1006</td>\n",
              "      <td>2022-03-20 18:32:56</td>\n",
              "      <td>TMC sudah beroperasi sejak 18-20 Maret lantara...</td>\n",
              "      <td>JustYourNda</td>\n",
              "      <td>2</td>\n",
              "    </tr>\n",
              "    <tr>\n",
              "      <th>3</th>\n",
              "      <td>1007</td>\n",
              "      <td>2022-03-20 18:32:53</td>\n",
              "      <td>Terbukti dari konsentrasi hujan pada 18 dan 19...</td>\n",
              "      <td>JustYourNda</td>\n",
              "      <td>0</td>\n",
              "    </tr>\n",
              "    <tr>\n",
              "      <th>4</th>\n",
              "      <td>1012</td>\n",
              "      <td>2022-03-20 18:31:46</td>\n",
              "      <td>congratulations to the riders ??? #IndonesianG...</td>\n",
              "      <td>gataugaliat_</td>\n",
              "      <td>1</td>\n",
              "    </tr>\n",
              "  </tbody>\n",
              "</table>\n",
              "</div>\n",
              "      <button class=\"colab-df-convert\" onclick=\"convertToInteractive('df-79f672e7-32dd-4fb0-9f9d-dd13a579ad93')\"\n",
              "              title=\"Convert this dataframe to an interactive table.\"\n",
              "              style=\"display:none;\">\n",
              "        \n",
              "  <svg xmlns=\"http://www.w3.org/2000/svg\" height=\"24px\"viewBox=\"0 0 24 24\"\n",
              "       width=\"24px\">\n",
              "    <path d=\"M0 0h24v24H0V0z\" fill=\"none\"/>\n",
              "    <path d=\"M18.56 5.44l.94 2.06.94-2.06 2.06-.94-2.06-.94-.94-2.06-.94 2.06-2.06.94zm-11 1L8.5 8.5l.94-2.06 2.06-.94-2.06-.94L8.5 2.5l-.94 2.06-2.06.94zm10 10l.94 2.06.94-2.06 2.06-.94-2.06-.94-.94-2.06-.94 2.06-2.06.94z\"/><path d=\"M17.41 7.96l-1.37-1.37c-.4-.4-.92-.59-1.43-.59-.52 0-1.04.2-1.43.59L10.3 9.45l-7.72 7.72c-.78.78-.78 2.05 0 2.83L4 21.41c.39.39.9.59 1.41.59.51 0 1.02-.2 1.41-.59l7.78-7.78 2.81-2.81c.8-.78.8-2.07 0-2.86zM5.41 20L4 18.59l7.72-7.72 1.47 1.35L5.41 20z\"/>\n",
              "  </svg>\n",
              "      </button>\n",
              "      \n",
              "  <style>\n",
              "    .colab-df-container {\n",
              "      display:flex;\n",
              "      flex-wrap:wrap;\n",
              "      gap: 12px;\n",
              "    }\n",
              "\n",
              "    .colab-df-convert {\n",
              "      background-color: #E8F0FE;\n",
              "      border: none;\n",
              "      border-radius: 50%;\n",
              "      cursor: pointer;\n",
              "      display: none;\n",
              "      fill: #1967D2;\n",
              "      height: 32px;\n",
              "      padding: 0 0 0 0;\n",
              "      width: 32px;\n",
              "    }\n",
              "\n",
              "    .colab-df-convert:hover {\n",
              "      background-color: #E2EBFA;\n",
              "      box-shadow: 0px 1px 2px rgba(60, 64, 67, 0.3), 0px 1px 3px 1px rgba(60, 64, 67, 0.15);\n",
              "      fill: #174EA6;\n",
              "    }\n",
              "\n",
              "    [theme=dark] .colab-df-convert {\n",
              "      background-color: #3B4455;\n",
              "      fill: #D2E3FC;\n",
              "    }\n",
              "\n",
              "    [theme=dark] .colab-df-convert:hover {\n",
              "      background-color: #434B5C;\n",
              "      box-shadow: 0px 1px 3px 1px rgba(0, 0, 0, 0.15);\n",
              "      filter: drop-shadow(0px 1px 2px rgba(0, 0, 0, 0.3));\n",
              "      fill: #FFFFFF;\n",
              "    }\n",
              "  </style>\n",
              "\n",
              "      <script>\n",
              "        const buttonEl =\n",
              "          document.querySelector('#df-79f672e7-32dd-4fb0-9f9d-dd13a579ad93 button.colab-df-convert');\n",
              "        buttonEl.style.display =\n",
              "          google.colab.kernel.accessAllowed ? 'block' : 'none';\n",
              "\n",
              "        async function convertToInteractive(key) {\n",
              "          const element = document.querySelector('#df-79f672e7-32dd-4fb0-9f9d-dd13a579ad93');\n",
              "          const dataTable =\n",
              "            await google.colab.kernel.invokeFunction('convertToInteractive',\n",
              "                                                     [key], {});\n",
              "          if (!dataTable) return;\n",
              "\n",
              "          const docLinkHtml = 'Like what you see? Visit the ' +\n",
              "            '<a target=\"_blank\" href=https://colab.research.google.com/notebooks/data_table.ipynb>data table notebook</a>'\n",
              "            + ' to learn more about interactive tables.';\n",
              "          element.innerHTML = '';\n",
              "          dataTable['output_type'] = 'display_data';\n",
              "          await google.colab.output.renderOutput(dataTable, element);\n",
              "          const docLink = document.createElement('div');\n",
              "          docLink.innerHTML = docLinkHtml;\n",
              "          element.appendChild(docLink);\n",
              "        }\n",
              "      </script>\n",
              "    </div>\n",
              "  </div>\n",
              "  "
            ]
          },
          "metadata": {},
          "execution_count": 29
        }
      ],
      "source": [
        "# Converting xls to csv\n",
        "sample = pd.read_excel (\"labeling.xlsx\")\n",
        "sample.to_csv (\"labeling.csv\", index = None, header = True)\n",
        "#Loading Sample\n",
        "sample = pd.read_csv(\"labeling.csv\")\n",
        "sample.head()"
      ]
    },
    {
      "cell_type": "markdown",
      "source": [
        "### Preprocess Sampling Dataset"
      ],
      "metadata": {
        "id": "Pn73CqRer4K_"
      }
    },
    {
      "cell_type": "code",
      "source": [
        "sample[\"tweet_clean\"] = sample[\"tweet\"].apply(lambda x:preprocessor(x))\n",
        "sample[\"tweet_clean\"] = sample[\"tweet\"].apply(lambda x:tokenizer(x))\n",
        "sample[\"tweet_clean\"].sample(n=5)"
      ],
      "metadata": {
        "colab": {
          "base_uri": "https://localhost:8080/"
        },
        "id": "l_-5EveMkA7n",
        "outputId": "dc95554d-e12b-4f0e-af2d-c6339ac09ec5"
      },
      "execution_count": 30,
      "outputs": [
        {
          "output_type": "execute_result",
          "data": {
            "text/plain": [
              "269    baru apdet gelar moto tadi mandalika ujan dere...\n",
              "323    tiba tiba pikir waktu balap pada balap mandali...\n",
              "16     aniesbaswedan motogp dateng hujan derasss jela...\n",
              "311    motogp yaaa anggep hibur kalo ujan deres gada ...\n",
              "99     ketawa pawang hujan mandalika padahal sendiri ...\n",
              "Name: tweet_clean, dtype: object"
            ]
          },
          "metadata": {},
          "execution_count": 30
        }
      ]
    },
    {
      "cell_type": "markdown",
      "source": [
        "### Fitting Model"
      ],
      "metadata": {
        "id": "R8oa03Ehs0_k"
      }
    },
    {
      "cell_type": "code",
      "source": [
        "x = vectorizer_tfidf.transform(sample[\"tweet_clean\"].values)\n",
        "y = sample[\"sentiment\"].values\n",
        "\n",
        "#Splitting Data\n",
        "from sklearn.model_selection import train_test_split\n",
        "x_train, x_valid, y_train, y_valid = train_test_split(x, y, test_size=0.2, random_state=0)\n",
        "\n",
        "#modelling\n",
        "from sklearn.linear_model import LogisticRegression\n",
        "from sklearn.ensemble import RandomForestClassifier\n",
        "from sklearn.tree import DecisionTreeClassifier\n",
        "from sklearn.svm import SVC\n",
        "from sklearn import metrics\n",
        "\n",
        "classifiers = {\n",
        "    \"Decision Tree Classifier\": DecisionTreeClassifier(random_state=0),\n",
        "    \"Logistic Regression\": LogisticRegression(random_state=0),\n",
        "    \"Random Forest Classifier\": RandomForestClassifier(random_state=0),\n",
        "    \"Support Vector Machine\": SVC(kernel=\"linear\", probability=True, random_state=0),\n",
        "}\n",
        "\n",
        "for name in classifiers.keys():\n",
        "  classifiers[name].fit(x_train, y_train)\n",
        "  y_pred = classifiers[name].predict(x_valid)\n",
        "  print(f\"{name} Accuracy: \", metrics.accuracy_score(y_valid, y_pred))"
      ],
      "metadata": {
        "colab": {
          "base_uri": "https://localhost:8080/"
        },
        "id": "uCmqEJ33s4xu",
        "outputId": "4cdb326c-bfc5-42d2-f28a-337349f09152"
      },
      "execution_count": 47,
      "outputs": [
        {
          "output_type": "stream",
          "name": "stdout",
          "text": [
            "Decision Tree Classifier Accuracy:  0.5357142857142857\n",
            "Logistic Regression Accuracy:  0.55\n",
            "Random Forest Classifier Accuracy:  0.5785714285714286\n",
            "Support Vector Machine Accuracy:  0.5928571428571429\n"
          ]
        }
      ]
    },
    {
      "cell_type": "markdown",
      "source": [
        "## Prediction"
      ],
      "metadata": {
        "id": "m5BnY20Qud-g"
      }
    },
    {
      "cell_type": "code",
      "source": [
        "# Decision Tree Classifier\n",
        "data[\"DTC_prediction\"] = classifiers[\"Decision Tree Classifier\"].predict(word_tfidf)\n",
        "# Logistic Regression\n",
        "data[\"LR_prediction\"] = classifiers[\"Logistic Regression\"].predict(word_tfidf)\n",
        "# Random Forest Classifier\n",
        "data[\"RFC_prediction\"] = classifiers[\"Random Forest Classifier\"].predict(word_tfidf)\n",
        "# Support Vector Machine\n",
        "data[\"SVM_prediction\"] = classifiers[\"Support Vector Machine\"].predict(word_tfidf)\n",
        "data.sample(n=5)"
      ],
      "metadata": {
        "colab": {
          "base_uri": "https://localhost:8080/",
          "height": 206
        },
        "id": "mOEDHkdSxmae",
        "outputId": "12094791-5d29-4932-cde1-cbef53a19527"
      },
      "execution_count": 48,
      "outputs": [
        {
          "output_type": "execute_result",
          "data": {
            "text/plain": [
              "                     date                                              tweet  \\\n",
              "855   2022-03-20 19:39:49  @Telkomsel MotoGP yang saya dukung di MotoGP M...   \n",
              "2492  2022-03-20 15:22:50  Oh ini yang lagi rame Pawang Hujan Mandalika 😁...   \n",
              "670   2022-03-20 21:23:09  @Tan_Mar3M Kesian banget... Sedih yaa MotoGP s...   \n",
              "1582  2022-03-20 16:49:07  @Candraasmara85 Sesungguhnya cebong dan nyale ...   \n",
              "2829  2022-03-20 14:56:01  Isi sosmed saat ini saat bahas #IndonesianGP :...   \n",
              "\n",
              "            username                                        tweet_clean  \\\n",
              "855        riska1798  motogp yang saya dukung motogp mandalika adala...   \n",
              "2492  Yunus_portrait  yang lagi rame pawang hujan mandalika dorna in...   \n",
              "670      masgung1973  kesi banget sedih motogp sukses pihak prinsipa...   \n",
              "1582    e_class_1999      sungguh cebong nyale pantai mandalika saudara   \n",
              "2829    makerandreas  sosmed saat saat bahas indonesiangp bahas marc...   \n",
              "\n",
              "      prediction  DTC_prediction  LR_prediction  RFC_prediction  \\\n",
              "855            0               0              0               0   \n",
              "2492           0               0              0               0   \n",
              "670            1               1              1               1   \n",
              "1582           0               0              0               0   \n",
              "2829           0               2              2               2   \n",
              "\n",
              "      SVM_prediction  \n",
              "855                0  \n",
              "2492               0  \n",
              "670                1  \n",
              "1582               0  \n",
              "2829               2  "
            ],
            "text/html": [
              "\n",
              "  <div id=\"df-fcb83741-cf5e-4b9a-8333-d0a7f9393577\">\n",
              "    <div class=\"colab-df-container\">\n",
              "      <div>\n",
              "<style scoped>\n",
              "    .dataframe tbody tr th:only-of-type {\n",
              "        vertical-align: middle;\n",
              "    }\n",
              "\n",
              "    .dataframe tbody tr th {\n",
              "        vertical-align: top;\n",
              "    }\n",
              "\n",
              "    .dataframe thead th {\n",
              "        text-align: right;\n",
              "    }\n",
              "</style>\n",
              "<table border=\"1\" class=\"dataframe\">\n",
              "  <thead>\n",
              "    <tr style=\"text-align: right;\">\n",
              "      <th></th>\n",
              "      <th>date</th>\n",
              "      <th>tweet</th>\n",
              "      <th>username</th>\n",
              "      <th>tweet_clean</th>\n",
              "      <th>prediction</th>\n",
              "      <th>DTC_prediction</th>\n",
              "      <th>LR_prediction</th>\n",
              "      <th>RFC_prediction</th>\n",
              "      <th>SVM_prediction</th>\n",
              "    </tr>\n",
              "  </thead>\n",
              "  <tbody>\n",
              "    <tr>\n",
              "      <th>855</th>\n",
              "      <td>2022-03-20 19:39:49</td>\n",
              "      <td>@Telkomsel MotoGP yang saya dukung di MotoGP M...</td>\n",
              "      <td>riska1798</td>\n",
              "      <td>motogp yang saya dukung motogp mandalika adala...</td>\n",
              "      <td>0</td>\n",
              "      <td>0</td>\n",
              "      <td>0</td>\n",
              "      <td>0</td>\n",
              "      <td>0</td>\n",
              "    </tr>\n",
              "    <tr>\n",
              "      <th>2492</th>\n",
              "      <td>2022-03-20 15:22:50</td>\n",
              "      <td>Oh ini yang lagi rame Pawang Hujan Mandalika 😁...</td>\n",
              "      <td>Yunus_portrait</td>\n",
              "      <td>yang lagi rame pawang hujan mandalika dorna in...</td>\n",
              "      <td>0</td>\n",
              "      <td>0</td>\n",
              "      <td>0</td>\n",
              "      <td>0</td>\n",
              "      <td>0</td>\n",
              "    </tr>\n",
              "    <tr>\n",
              "      <th>670</th>\n",
              "      <td>2022-03-20 21:23:09</td>\n",
              "      <td>@Tan_Mar3M Kesian banget... Sedih yaa MotoGP s...</td>\n",
              "      <td>masgung1973</td>\n",
              "      <td>kesi banget sedih motogp sukses pihak prinsipa...</td>\n",
              "      <td>1</td>\n",
              "      <td>1</td>\n",
              "      <td>1</td>\n",
              "      <td>1</td>\n",
              "      <td>1</td>\n",
              "    </tr>\n",
              "    <tr>\n",
              "      <th>1582</th>\n",
              "      <td>2022-03-20 16:49:07</td>\n",
              "      <td>@Candraasmara85 Sesungguhnya cebong dan nyale ...</td>\n",
              "      <td>e_class_1999</td>\n",
              "      <td>sungguh cebong nyale pantai mandalika saudara</td>\n",
              "      <td>0</td>\n",
              "      <td>0</td>\n",
              "      <td>0</td>\n",
              "      <td>0</td>\n",
              "      <td>0</td>\n",
              "    </tr>\n",
              "    <tr>\n",
              "      <th>2829</th>\n",
              "      <td>2022-03-20 14:56:01</td>\n",
              "      <td>Isi sosmed saat ini saat bahas #IndonesianGP :...</td>\n",
              "      <td>makerandreas</td>\n",
              "      <td>sosmed saat saat bahas indonesiangp bahas marc...</td>\n",
              "      <td>0</td>\n",
              "      <td>2</td>\n",
              "      <td>2</td>\n",
              "      <td>2</td>\n",
              "      <td>2</td>\n",
              "    </tr>\n",
              "  </tbody>\n",
              "</table>\n",
              "</div>\n",
              "      <button class=\"colab-df-convert\" onclick=\"convertToInteractive('df-fcb83741-cf5e-4b9a-8333-d0a7f9393577')\"\n",
              "              title=\"Convert this dataframe to an interactive table.\"\n",
              "              style=\"display:none;\">\n",
              "        \n",
              "  <svg xmlns=\"http://www.w3.org/2000/svg\" height=\"24px\"viewBox=\"0 0 24 24\"\n",
              "       width=\"24px\">\n",
              "    <path d=\"M0 0h24v24H0V0z\" fill=\"none\"/>\n",
              "    <path d=\"M18.56 5.44l.94 2.06.94-2.06 2.06-.94-2.06-.94-.94-2.06-.94 2.06-2.06.94zm-11 1L8.5 8.5l.94-2.06 2.06-.94-2.06-.94L8.5 2.5l-.94 2.06-2.06.94zm10 10l.94 2.06.94-2.06 2.06-.94-2.06-.94-.94-2.06-.94 2.06-2.06.94z\"/><path d=\"M17.41 7.96l-1.37-1.37c-.4-.4-.92-.59-1.43-.59-.52 0-1.04.2-1.43.59L10.3 9.45l-7.72 7.72c-.78.78-.78 2.05 0 2.83L4 21.41c.39.39.9.59 1.41.59.51 0 1.02-.2 1.41-.59l7.78-7.78 2.81-2.81c.8-.78.8-2.07 0-2.86zM5.41 20L4 18.59l7.72-7.72 1.47 1.35L5.41 20z\"/>\n",
              "  </svg>\n",
              "      </button>\n",
              "      \n",
              "  <style>\n",
              "    .colab-df-container {\n",
              "      display:flex;\n",
              "      flex-wrap:wrap;\n",
              "      gap: 12px;\n",
              "    }\n",
              "\n",
              "    .colab-df-convert {\n",
              "      background-color: #E8F0FE;\n",
              "      border: none;\n",
              "      border-radius: 50%;\n",
              "      cursor: pointer;\n",
              "      display: none;\n",
              "      fill: #1967D2;\n",
              "      height: 32px;\n",
              "      padding: 0 0 0 0;\n",
              "      width: 32px;\n",
              "    }\n",
              "\n",
              "    .colab-df-convert:hover {\n",
              "      background-color: #E2EBFA;\n",
              "      box-shadow: 0px 1px 2px rgba(60, 64, 67, 0.3), 0px 1px 3px 1px rgba(60, 64, 67, 0.15);\n",
              "      fill: #174EA6;\n",
              "    }\n",
              "\n",
              "    [theme=dark] .colab-df-convert {\n",
              "      background-color: #3B4455;\n",
              "      fill: #D2E3FC;\n",
              "    }\n",
              "\n",
              "    [theme=dark] .colab-df-convert:hover {\n",
              "      background-color: #434B5C;\n",
              "      box-shadow: 0px 1px 3px 1px rgba(0, 0, 0, 0.15);\n",
              "      filter: drop-shadow(0px 1px 2px rgba(0, 0, 0, 0.3));\n",
              "      fill: #FFFFFF;\n",
              "    }\n",
              "  </style>\n",
              "\n",
              "      <script>\n",
              "        const buttonEl =\n",
              "          document.querySelector('#df-fcb83741-cf5e-4b9a-8333-d0a7f9393577 button.colab-df-convert');\n",
              "        buttonEl.style.display =\n",
              "          google.colab.kernel.accessAllowed ? 'block' : 'none';\n",
              "\n",
              "        async function convertToInteractive(key) {\n",
              "          const element = document.querySelector('#df-fcb83741-cf5e-4b9a-8333-d0a7f9393577');\n",
              "          const dataTable =\n",
              "            await google.colab.kernel.invokeFunction('convertToInteractive',\n",
              "                                                     [key], {});\n",
              "          if (!dataTable) return;\n",
              "\n",
              "          const docLinkHtml = 'Like what you see? Visit the ' +\n",
              "            '<a target=\"_blank\" href=https://colab.research.google.com/notebooks/data_table.ipynb>data table notebook</a>'\n",
              "            + ' to learn more about interactive tables.';\n",
              "          element.innerHTML = '';\n",
              "          dataTable['output_type'] = 'display_data';\n",
              "          await google.colab.output.renderOutput(dataTable, element);\n",
              "          const docLink = document.createElement('div');\n",
              "          docLink.innerHTML = docLinkHtml;\n",
              "          element.appendChild(docLink);\n",
              "        }\n",
              "      </script>\n",
              "    </div>\n",
              "  </div>\n",
              "  "
            ]
          },
          "metadata": {},
          "execution_count": 48
        }
      ]
    },
    {
      "cell_type": "markdown",
      "source": [
        "## Visualization"
      ],
      "metadata": {
        "id": "AZ_S-Pmru5PL"
      }
    },
    {
      "cell_type": "markdown",
      "source": [
        "### Decision Tree Classifier"
      ],
      "metadata": {
        "id": "xWkVIxWeySf6"
      }
    },
    {
      "cell_type": "code",
      "source": [
        "# Plotting Pie\n",
        "def pct_pie(pct, allvals):\n",
        "    absolute = int(pct / 100.0 * np.sum(allvals))\n",
        "    return \"{:.1f}%\\n{:d}\".format(pct, absolute)\n",
        "\n",
        "\n",
        "sentimen = data[\"tweet_clean\"].groupby(data[\"DTC_prediction\"]).count().values\n",
        "\n",
        "plt.figure(figsize=(8, 8))\n",
        "plt.pie(\n",
        "    sentimen,\n",
        "    explode=(0, 0, 0.1),\n",
        "    labels=[\"Neutral\", \"Positive\", \"Negative\"],\n",
        "    shadow=True,\n",
        "    autopct=lambda pct: pct_pie(pct, sentimen),\n",
        "    startangle=90,\n",
        ")\n",
        "plt.title(\"Sentiment Comparison\\nDecision Tree Classifier\", fontsize=18)\n",
        "plt.axis(\"equal\")\n",
        "plt.legend(fontsize=11)\n",
        "plt.show()"
      ],
      "metadata": {
        "colab": {
          "base_uri": "https://localhost:8080/",
          "height": 507
        },
        "id": "9cHjcIuMu8aC",
        "outputId": "001cd128-d7d9-4195-cd1b-6e23a4c8b1fa"
      },
      "execution_count": 50,
      "outputs": [
        {
          "output_type": "display_data",
          "data": {
            "text/plain": [
              "<Figure size 576x576 with 1 Axes>"
            ],
            "image/png": "[encoded data removed]"
          },
          "metadata": {}
        }
      ]
    },
    {
      "cell_type": "markdown",
      "source": [
        "### Logistic Regression"
      ],
      "metadata": {
        "id": "434KZKsyybdG"
      }
    },
    {
      "cell_type": "code",
      "source": [
        "# Plotting Pie\n",
        "def pct_pie(pct, allvals):\n",
        "    absolute = int(pct / 100.0 * np.sum(allvals))\n",
        "    return \"{:.1f}%\\n{:d}\".format(pct, absolute)\n",
        "\n",
        "\n",
        "sentimen = data[\"tweet_clean\"].groupby(data[\"LR_prediction\"]).count().values\n",
        "\n",
        "plt.figure(figsize=(8, 8))\n",
        "plt.pie(\n",
        "    sentimen,\n",
        "    explode=(0, 0, 0.1),\n",
        "    labels=[\"Neutral\", \"Positive\", \"Negative\"],\n",
        "    shadow=True,\n",
        "    autopct=lambda pct: pct_pie(pct, sentimen),\n",
        "    startangle=90,\n",
        ")\n",
        "plt.title(\"Sentiment Comparison\\nLogistic Regression Classifier\", fontsize=18)\n",
        "plt.axis(\"equal\")\n",
        "plt.legend(fontsize=11)\n",
        "plt.show()"
      ],
      "metadata": {
        "colab": {
          "base_uri": "https://localhost:8080/",
          "height": 507
        },
        "id": "UDqlljXdyYUM",
        "outputId": "025cd156-9493-4d58-f93c-c7bd956671db"
      },
      "execution_count": 51,
      "outputs": [
        {
          "output_type": "display_data",
          "data": {
            "text/plain": [
              "<Figure size 576x576 with 1 Axes>"
            ],
            "image/png": "[encoded data removed]"
          },
          "metadata": {}
        }
      ]
    },
    {
      "cell_type": "markdown",
      "source": [
        "### Random Forest Classifier"
      ],
      "metadata": {
        "id": "eXQZe2jEy3SZ"
      }
    },
    {
      "cell_type": "code",
      "source": [
        "# Plotting Pie\n",
        "def pct_pie(pct, allvals):\n",
        "    absolute = int(pct / 100.0 * np.sum(allvals))\n",
        "    return \"{:.1f}%\\n{:d}\".format(pct, absolute)\n",
        "\n",
        "\n",
        "sentimen = data[\"tweet_clean\"].groupby(data[\"RFC_prediction\"]).count().values\n",
        "\n",
        "plt.figure(figsize=(8, 8))\n",
        "plt.pie(\n",
        "    sentimen,\n",
        "    explode=(0, 0, 0.1),\n",
        "    labels=[\"Neutral\", \"Positive\", \"Negative\"],\n",
        "    shadow=True,\n",
        "    autopct=lambda pct: pct_pie(pct, sentimen),\n",
        "    startangle=90,\n",
        ")\n",
        "plt.title(\"Sentiment Comparison\\nRandom Forest Classifier\", fontsize=18)\n",
        "plt.axis(\"equal\")\n",
        "plt.legend(fontsize=11)\n",
        "plt.show()"
      ],
      "metadata": {
        "colab": {
          "base_uri": "https://localhost:8080/",
          "height": 507
        },
        "id": "T0LC_eTOy2cr",
        "outputId": "2dca4c3d-b2f7-4dce-ae27-d5ac4b3bed20"
      },
      "execution_count": 52,
      "outputs": [
        {
          "output_type": "display_data",
          "data": {
            "text/plain": [
              "<Figure size 576x576 with 1 Axes>"
            ],
            "image/png": "[encoded data removed]"
          },
          "metadata": {}
        }
      ]
    },
    {
      "cell_type": "markdown",
      "source": [
        "### Support Vector Machine"
      ],
      "metadata": {
        "id": "XVuPMkJfzBR8"
      }
    },
    {
      "cell_type": "code",
      "source": [
        "# Plotting Pie\n",
        "def pct_pie(pct, allvals):\n",
        "    absolute = int(pct / 100.0 * np.sum(allvals))\n",
        "    return \"{:.1f}%\\n{:d}\".format(pct, absolute)\n",
        "\n",
        "\n",
        "sentimen = data[\"tweet_clean\"].groupby(data[\"SVM_prediction\"]).count().values\n",
        "\n",
        "plt.figure(figsize=(8, 8))\n",
        "plt.pie(\n",
        "    sentimen,\n",
        "    explode=(0, 0, 0.1),\n",
        "    labels=[\"Neutral\", \"Positive\", \"Negative\"],\n",
        "    shadow=True,\n",
        "    autopct=lambda pct: pct_pie(pct, sentimen),\n",
        "    startangle=90,\n",
        ")\n",
        "plt.title(\"Sentiment Comparison\\nSupport Vector Machine Classifier\", fontsize=18)\n",
        "plt.axis(\"equal\")\n",
        "plt.legend(fontsize=11)\n",
        "plt.show()"
      ],
      "metadata": {
        "colab": {
          "base_uri": "https://localhost:8080/",
          "height": 507
        },
        "id": "XNaFjx-yzAK9",
        "outputId": "a09580b9-2795-4290-935b-aee6af2c04b4"
      },
      "execution_count": 53,
      "outputs": [
        {
          "output_type": "display_data",
          "data": {
            "text/plain": [
              "<Figure size 576x576 with 1 Axes>"
            ],
            "image/png": "[encoded data removed]"
          },
          "metadata": {}
        }
      ]
    }
  ],
  "metadata": {
    "colab": {
      "collapsed_sections": [],
      "provenance": [],
      "authorship_tag": "ABX9TyNCkS+pRKaGY7GpkIzOCJLy",
      "include_colab_link": true
    },
    "kernelspec": {
      "display_name": "Python 3",
      "name": "python3"
    },
    "language_info": {
      "name": "python"
    }
  },
  "nbformat": 4,
  "nbformat_minor": 0
}